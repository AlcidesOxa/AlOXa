{
  "nbformat": 4,
  "nbformat_minor": 0,
  "metadata": {
    "colab": {
      "provenance": [],
      "authorship_tag": "ABX9TyM5DhZf/9HL7+jPr8TC7NHI",
      "include_colab_link": true
    },
    "kernelspec": {
      "name": "python3",
      "display_name": "Python 3"
    }
  },
  "cells": [
    {
      "cell_type": "markdown",
      "metadata": {
        "id": "view-in-github",
        "colab_type": "text"
      },
      "source": [
        "<a href=\"https://colab.research.google.com/github/AlcidesOxa/AlOXa/blob/master/Regresi%C3%B3n_log%C3%ADstica.ipynb\" target=\"_parent\"><img src=\"https://colab.research.google.com/assets/colab-badge.svg\" alt=\"Open In Colab\"/></a>"
      ]
    },
    {
      "cell_type": "markdown",
      "metadata": {
        "id": "g7OnI86r4hyi"
      },
      "source": [
        "#Librerías"
      ]
    },
    {
      "cell_type": "code",
      "metadata": {
        "id": "jiWAg0-0FM5H"
      },
      "source": [
        "import pandas as pd\n",
        "import numpy as np\n",
        "from sklearn.linear_model import LogisticRegression #Regresión logística\n",
        "import scipy.stats as st\n",
        "from sklearn.metrics import accuracy_score, roc_auc_score #Métricas para evaluar la clasificación\n",
        "from sklearn.model_selection import train_test_split, cross_val_score, cross_val_predict #herramientas para seleccionar modelos\n",
        "import matplotlib.pyplot as plt\n",
        "from matplotlib.colors import ListedColormap\n",
        "from sklearn.decomposition import PCA\n",
        "from sklearn.preprocessing import StandardScaler, PolynomialFeatures"
      ],
      "execution_count": null,
      "outputs": []
    },
    {
      "cell_type": "code",
      "metadata": {
        "id": "r8kxT06egzU_"
      },
      "source": [
        "import warnings\n",
        "warnings.filterwarnings('ignore') #para ignorar las advertencias"
      ],
      "execution_count": null,
      "outputs": []
    },
    {
      "cell_type": "markdown",
      "metadata": {
        "id": "J9wkYECr20gH"
      },
      "source": [
        "# Regresión Logística"
      ]
    },
    {
      "cell_type": "markdown",
      "metadata": {
        "id": "BzVYwyDyCVkL"
      },
      "source": [
        "Es un modelo estadístico que relaciona una variable dependiente discreta binaria con un conjunto de covariables tanto numéricas como categóricas. La variable objetivo es una dicotómica que toma los valores de 0 y 1, que denotan ausencia y presencia de un evento respectivamente. Las variables de atributos o características se denotan mediante el vector $x$ el cual incluye un uno para considerar también el sesgo.\n",
        "\n",
        "La variable dependiente $y$ se considera aleatoria y que toma valores $1$ y $0$, la misma se distribuye como una Bernoulli, y se escribe $y\\sim B(p)$, donde $p$ es la probabilidad de que $y=1$, y $0<p<1$. Su función de masa de probabilidad es\n",
        "\\begin{equation}\n",
        "g\\left( y\\right) =\\left\\{\n",
        "\\begin{array}{cc}\n",
        "p^{y}\\left( 1-p\\right) ^{1-y} & \\text{si }y=0,1 \\\\\n",
        "0 & \\text{en otro caso}\n",
        "\\end{array}\n",
        "\\right .\n",
        "\\end{equation}\n",
        "con media $E\\left( y\\right) =p$ y varianza $V\\left( y\\right) =p\\left(\n",
        "1-p\\right) $.\n",
        "\n",
        "Se establece que la variable $y$ es una manifestación de\n",
        "una variable latente $y^{\\ast }$, que (a diferencia de $y$) es una variable\n",
        "continua. La variable dependiente $y$ se relaciona con la variable $y^{\\ast }$ de la forma\n",
        "\\begin{equation}\n",
        "y=\\left\\{\n",
        "\\begin{array}{cc}\n",
        "1 & \\text{si }y^{\\ast }\\geq 0 \\\\\n",
        "0 & \\text{si }y^{\\ast }<0\n",
        "\\end{array}\n",
        "\\right.\n",
        "\\end{equation}\n",
        "donde $y^{\\ast }$ es continua y que depende linealmente de un vector de covariables $x$\n",
        "\\begin{equation*}\n",
        "y^{\\ast }=x^{\\prime }\\beta -u\n",
        "\\end{equation*}\n",
        "y donde $\\beta $ es un vector de parámetros y $u$ es un término de\n",
        "error aleatorio.\n",
        "\n",
        "Luego la probabilidad de $y=1$ es\n",
        "\\begin{eqnarray}\n",
        "p=\\Pr \\left( y=1\\right) =\\Pr \\left( y^{\\ast }\\geq 0\\right)=\\Pr \\left( u\\leq x^{\\prime }\\beta \\right) =F\\left( x^{\\prime }\\beta\n",
        "\\right)\n",
        "\\end{eqnarray}\n",
        "es decir, $F$ es la función de distribución acumulativa de $u$\n",
        "evaluada en $x^{\\prime }\\beta $. Por tanto se puede expresar la probabilidad\n",
        "de un evento, como una función de distribución de probabilidad. En este sentido se pueden utilizar una variada cantidad de funciones de distribución que en la literatura estadística se tienen.\n",
        "\n",
        "Si la distribucion de $u$ es logística entonces se tiene el\n",
        "denominado modelo de regresión logística o modelo logit\n",
        "\\begin{equation}\n",
        "p=\\Lambda \\left( x^{\\prime }\\beta \\right) =\\frac{e^{x^{\\prime }\\beta }}{\n",
        "1+e^{x^{\\prime }\\beta }}\n",
        "\\end{equation}\n",
        "\n",
        "Entonces se tiene que la variable dependiente $y$ sigue una distribución Bernoulli (que es un caso particular de la distribución binomial) con\n",
        "probabilidad $F\\left( x^{\\prime }\\beta \\right) $ de que $y=1$.\n",
        "\\begin{equation}\n",
        "g\\left( y\\right) =\\left[ F\\left( x^{\\prime }\\beta \\right) \\right] ^{y}\\left[\n",
        "1-F\\left( x^{\\prime }\\beta \\right) \\right] ^{1-y}\n",
        "\\end{equation}\n",
        "es decir, la probabilidad depende de las covariables $x$ a través de la función $F$.\n",
        "\n",
        "**Estimación de los parámetros**\n",
        "\n",
        "La estimación de los parámetros se realiza por el método de Máxima Verosimilitud. Sea $\\left\\{ y_{i}\\right\\} _{i=1}^{n}$ una muestra\n",
        "aleatoria, sean los $x_{i}$ respectivos, y sea $y_{i}\\sim B\\left(\n",
        "F_{i}\\right) $ donde $F_{i}=F\\left( x_{i}^{\\prime }\\beta \\right) $, la función verosimilitud es el producto\n",
        "\\begin{equation*}\n",
        "L\\left( \\beta \\right) =\\prod\\limits_{i=1}^{n}F_{i}^{y_{i}}\\left(\n",
        "1-F_{i}\\right) ^{1-y_{i}}\n",
        "\\end{equation*}\n",
        "donde este producto se da por la independencia de las $y_{i}$. Aplicando logaritmos se tiene la función log-verosimilitud\n",
        "\\begin{equation}\n",
        "\\ln L\\left( \\beta \\right) =\\sum_{i=1}^{n}\\left[ y_{i}\\ln F_{i}+\\left(\n",
        "1-y_{i}\\right) \\ln \\left( 1-F_{i}\\right) \\right]\n",
        "\\end{equation}\n",
        "para hallar los valores de $\\beta $ que hacen máxima la probabilidad de\n",
        "observar la muestra observada, se procede a derivar con respecto a $\\beta $. La condición de 1er orden es\n",
        "\\begin{equation}\n",
        "\\frac{\\partial \\ln L}{\\partial \\beta }=\\sum_{i=1}^{n}\\left[ \\frac{y_{i}f_{i}\n",
        "}{F_{i}}-\\frac{\\left( 1-y_{i}\\right) f_{i}}{1-F_{i}}\\right] x_{i}=0\n",
        "\\end{equation}\n",
        "simplificando\n",
        "\\begin{equation}\n",
        "\\sum_{i=1}^{n}\\left( y_{i}-\\frac{e^{x_{i}^{\\prime }\\beta }}{\n",
        "1+e^{x_{i}^{\\prime }\\beta }}\\right) x_{i}=0\n",
        "\\end{equation}\n",
        "dado que en la logística $f_{i}=\\left( 1-F_{i}\\right) F_{i}$. El hessiano es\n",
        "\\begin{eqnarray*}\n",
        "H\\left( \\beta \\right)  =\\frac{\\partial ^{2}\\ln L}{\\partial \\beta \\partial\n",
        "\\beta ^{\\prime }}=-\\sum_{i=1}^{n}f_{i}x_{i}x_{i}^{\\prime } =-\\sum_{i=1}^{n}\\left( 1-F_{i}\\right) F_{i}x_{i}x_{i}^{\\prime }\n",
        "\\end{eqnarray*}\n",
        "evaluada en la solución la matriz es definida negativa,\n",
        "por tanto es un máximo.\n",
        "La dificultad de hallar un $\\beta $ solución analíticamente, requiere que se recurran a métodos numéricos. El método de Newton-Raphson es uno de ellos y consiste en iterar\n",
        "\\begin{eqnarray*}\n",
        "\\beta _{\\left( j+1\\right) }=\\beta _{\\left( j\\right) }-\\left[ H\\left( \\beta\n",
        "_{\\left( j\\right) }\\right) \\right] ^{-1}g_{r}\\left( \\beta _{\\left( j\\right)\n",
        "}\\right)\n",
        "\\end{eqnarray*}\n",
        "donde $g_{r}$ es el gradiente y $H$ el hessiano. Las iteraciones se realizan hasta que un criterio sobre $\\left\\Vert \\beta\n",
        "_{\\left( j+1\\right) }-\\beta _{\\left( j\\right) }\\right\\Vert $ sea satisfecho\n",
        "o se alcance un número máximo de iteraciones. El valor inicial $\\beta _{\\left( 0\\right) }$ puede obtenerse a través de mínimos cuadrados ordinarios, regresando $y_{i}$ sobre $x_{i}$."
      ]
    },
    {
      "cell_type": "markdown",
      "metadata": {
        "id": "CL9Br4L6EHeE"
      },
      "source": [
        "Gráfica de la función logística"
      ]
    },
    {
      "cell_type": "code",
      "metadata": {
        "id": "WYcP-Bfz40a5",
        "colab": {
          "base_uri": "https://localhost:8080/",
          "height": 265
        },
        "outputId": "fa7146c5-137e-44ec-96bf-d14205649fa8"
      },
      "source": [
        "n = 100\n",
        "x = np.linspace(0, 50, n)\n",
        "p = st.logistic.cdf(-10 + 0.45*x)\n",
        "plt.plot(x, p)\n",
        "plt.show()"
      ],
      "execution_count": null,
      "outputs": [
        {
          "output_type": "display_data",
          "data": {
            "text/plain": [
              "<Figure size 432x288 with 1 Axes>"
            ],
            "image/png": "[encoded data removed]"
          },
          "metadata": {
            "needs_background": "light"
          }
        }
      ]
    },
    {
      "cell_type": "markdown",
      "metadata": {
        "id": "oKiBsLMgENLt"
      },
      "source": [
        "Simulación de una variable bernoulli"
      ]
    },
    {
      "cell_type": "code",
      "metadata": {
        "id": "DJhWq9Ap8JF2",
        "colab": {
          "base_uri": "https://localhost:8080/",
          "height": 265
        },
        "outputId": "a81482b2-c773-4661-cb1d-ad7e76491561"
      },
      "source": [
        "y = np.random.binomial(1, p, n)\n",
        "plt.scatter(x, y)\n",
        "plt.show()"
      ],
      "execution_count": null,
      "outputs": [
        {
          "output_type": "display_data",
          "data": {
            "text/plain": [
              "<Figure size 432x288 with 1 Axes>"
            ],
            "image/png": "[encoded data removed]"
          },
          "metadata": {
            "needs_background": "light"
          }
        }
      ]
    },
    {
      "cell_type": "code",
      "metadata": {
        "id": "Nu-jWkZp-Lgr",
        "colab": {
          "base_uri": "https://localhost:8080/",
          "height": 161
        },
        "outputId": "d99bbb4c-d325-4801-d3d9-3e42aaae326d"
      },
      "source": [
        "x = x.reshape(-1, 1)\n",
        "lr = LogisticRegression().fit(x, y)\n",
        "yp = lr.predict(x)\n",
        "print(accuracy_score(y, yp)) #precisión\n",
        "pd.crosstab(y, yp)"
      ],
      "execution_count": null,
      "outputs": [
        {
          "output_type": "stream",
          "name": "stdout",
          "text": [
            "0.96\n"
          ]
        },
        {
          "output_type": "execute_result",
          "data": {
            "text/plain": [
              "col_0   0   1\n",
              "row_0        \n",
              "0      46   2\n",
              "1       2  50"
            ],
            "text/html": [
              "\n",
              "  <div id=\"df-ad89192a-7a44-4b00-84f7-30787a672d32\">\n",
              "    <div class=\"colab-df-container\">\n",
              "      <div>\n",
              "<style scoped>\n",
              "    .dataframe tbody tr th:only-of-type {\n",
              "        vertical-align: middle;\n",
              "    }\n",
              "\n",
              "    .dataframe tbody tr th {\n",
              "        vertical-align: top;\n",
              "    }\n",
              "\n",
              "    .dataframe thead th {\n",
              "        text-align: right;\n",
              "    }\n",
              "</style>\n",
              "<table border=\"1\" class=\"dataframe\">\n",
              "  <thead>\n",
              "    <tr style=\"text-align: right;\">\n",
              "      <th>col_0</th>\n",
              "      <th>0</th>\n",
              "      <th>1</th>\n",
              "    </tr>\n",
              "    <tr>\n",
              "      <th>row_0</th>\n",
              "      <th></th>\n",
              "      <th></th>\n",
              "    </tr>\n",
              "  </thead>\n",
              "  <tbody>\n",
              "    <tr>\n",
              "      <th>0</th>\n",
              "      <td>46</td>\n",
              "      <td>2</td>\n",
              "    </tr>\n",
              "    <tr>\n",
              "      <th>1</th>\n",
              "      <td>2</td>\n",
              "      <td>50</td>\n",
              "    </tr>\n",
              "  </tbody>\n",
              "</table>\n",
              "</div>\n",
              "      <button class=\"colab-df-convert\" onclick=\"convertToInteractive('df-ad89192a-7a44-4b00-84f7-30787a672d32')\"\n",
              "              title=\"Convert this dataframe to an interactive table.\"\n",
              "              style=\"display:none;\">\n",
              "        \n",
              "  <svg xmlns=\"http://www.w3.org/2000/svg\" height=\"24px\"viewBox=\"0 0 24 24\"\n",
              "       width=\"24px\">\n",
              "    <path d=\"M0 0h24v24H0V0z\" fill=\"none\"/>\n",
              "    <path d=\"M18.56 5.44l.94 2.06.94-2.06 2.06-.94-2.06-.94-.94-2.06-.94 2.06-2.06.94zm-11 1L8.5 8.5l.94-2.06 2.06-.94-2.06-.94L8.5 2.5l-.94 2.06-2.06.94zm10 10l.94 2.06.94-2.06 2.06-.94-2.06-.94-.94-2.06-.94 2.06-2.06.94z\"/><path d=\"M17.41 7.96l-1.37-1.37c-.4-.4-.92-.59-1.43-.59-.52 0-1.04.2-1.43.59L10.3 9.45l-7.72 7.72c-.78.78-.78 2.05 0 2.83L4 21.41c.39.39.9.59 1.41.59.51 0 1.02-.2 1.41-.59l7.78-7.78 2.81-2.81c.8-.78.8-2.07 0-2.86zM5.41 20L4 18.59l7.72-7.72 1.47 1.35L5.41 20z\"/>\n",
              "  </svg>\n",
              "      </button>\n",
              "      \n",
              "  <style>\n",
              "    .colab-df-container {\n",
              "      display:flex;\n",
              "      flex-wrap:wrap;\n",
              "      gap: 12px;\n",
              "    }\n",
              "\n",
              "    .colab-df-convert {\n",
              "      background-color: #E8F0FE;\n",
              "      border: none;\n",
              "      border-radius: 50%;\n",
              "      cursor: pointer;\n",
              "      display: none;\n",
              "      fill: #1967D2;\n",
              "      height: 32px;\n",
              "      padding: 0 0 0 0;\n",
              "      width: 32px;\n",
              "    }\n",
              "\n",
              "    .colab-df-convert:hover {\n",
              "      background-color: #E2EBFA;\n",
              "      box-shadow: 0px 1px 2px rgba(60, 64, 67, 0.3), 0px 1px 3px 1px rgba(60, 64, 67, 0.15);\n",
              "      fill: #174EA6;\n",
              "    }\n",
              "\n",
              "    [theme=dark] .colab-df-convert {\n",
              "      background-color: #3B4455;\n",
              "      fill: #D2E3FC;\n",
              "    }\n",
              "\n",
              "    [theme=dark] .colab-df-convert:hover {\n",
              "      background-color: #434B5C;\n",
              "      box-shadow: 0px 1px 3px 1px rgba(0, 0, 0, 0.15);\n",
              "      filter: drop-shadow(0px 1px 2px rgba(0, 0, 0, 0.3));\n",
              "      fill: #FFFFFF;\n",
              "    }\n",
              "  </style>\n",
              "\n",
              "      <script>\n",
              "        const buttonEl =\n",
              "          document.querySelector('#df-ad89192a-7a44-4b00-84f7-30787a672d32 button.colab-df-convert');\n",
              "        buttonEl.style.display =\n",
              "          google.colab.kernel.accessAllowed ? 'block' : 'none';\n",
              "\n",
              "        async function convertToInteractive(key) {\n",
              "          const element = document.querySelector('#df-ad89192a-7a44-4b00-84f7-30787a672d32');\n",
              "          const dataTable =\n",
              "            await google.colab.kernel.invokeFunction('convertToInteractive',\n",
              "                                                     [key], {});\n",
              "          if (!dataTable) return;\n",
              "\n",
              "          const docLinkHtml = 'Like what you see? Visit the ' +\n",
              "            '<a target=\"_blank\" href=https://colab.research.google.com/notebooks/data_table.ipynb>data table notebook</a>'\n",
              "            + ' to learn more about interactive tables.';\n",
              "          element.innerHTML = '';\n",
              "          dataTable['output_type'] = 'display_data';\n",
              "          await google.colab.output.renderOutput(dataTable, element);\n",
              "          const docLink = document.createElement('div');\n",
              "          docLink.innerHTML = docLinkHtml;\n",
              "          element.appendChild(docLink);\n",
              "        }\n",
              "      </script>\n",
              "    </div>\n",
              "  </div>\n",
              "  "
            ]
          },
          "metadata": {},
          "execution_count": 5
        }
      ]
    },
    {
      "cell_type": "code",
      "metadata": {
        "id": "Uo2rtT58_ooH",
        "colab": {
          "base_uri": "https://localhost:8080/",
          "height": 265
        },
        "outputId": "b625a63f-52c1-4bc4-840b-197f50d163fe"
      },
      "source": [
        "plt.scatter(x, y)\n",
        "plt.scatter(x, yp, c = 'red', marker='.')\n",
        "plt.show()"
      ],
      "execution_count": null,
      "outputs": [
        {
          "output_type": "display_data",
          "data": {
            "text/plain": [
              "<Figure size 432x288 with 1 Axes>"
            ],
            "image/png": "[encoded data removed]"
          },
          "metadata": {
            "needs_background": "light"
          }
        }
      ]
    },
    {
      "cell_type": "code",
      "metadata": {
        "id": "z-tNkYe0AeXb",
        "colab": {
          "base_uri": "https://localhost:8080/",
          "height": 265
        },
        "outputId": "052f376c-fb8f-4cd9-de52-2c8c29216652"
      },
      "source": [
        "ypr = lr.predict_proba(x)\n",
        "plt.scatter(x, y)\n",
        "plt.plot(x, ypr[:,1], c = 'red')\n",
        "plt.show()"
      ],
      "execution_count": null,
      "outputs": [
        {
          "output_type": "display_data",
          "data": {
            "text/plain": [
              "<Figure size 432x288 with 1 Axes>"
            ],
            "image/png": "[encoded data removed]"
          },
          "metadata": {
            "needs_background": "light"
          }
        }
      ]
    },
    {
      "cell_type": "markdown",
      "metadata": {
        "id": "NPTMqevDBnOO"
      },
      "source": [
        "#Aplicación"
      ]
    },
    {
      "cell_type": "markdown",
      "metadata": {
        "id": "iRzNKzX6EqH_"
      },
      "source": [
        "Importar datos"
      ]
    },
    {
      "cell_type": "code",
      "metadata": {
        "id": "EsvbYPiMJW4K",
        "colab": {
          "base_uri": "https://localhost:8080/",
          "height": 206
        },
        "outputId": "6a5c050e-54ee-4467-bae9-abd488a2fa80"
      },
      "source": [
        "Datos = pd.read_csv('credito.csv')\n",
        "Datos.head()"
      ],
      "execution_count": null,
      "outputs": [
        {
          "output_type": "execute_result",
          "data": {
            "text/plain": [
              "   monto  plazo  edad    sexo        sector  mora\n",
              "0  60000     20    40  hombre  construcción     0\n",
              "1  60000     20    59  hombre      comercio     0\n",
              "2  50000     25    43  hombre  construcción     0\n",
              "3  50000     17    28  hombre  construcción     0\n",
              "4  20000      7    56  hombre      comercio     0"
            ],
            "text/html": [
              "\n",
              "  <div id=\"df-2a19ea9a-9300-4e9d-bb33-7938831278a2\">\n",
              "    <div class=\"colab-df-container\">\n",
              "      <div>\n",
              "<style scoped>\n",
              "    .dataframe tbody tr th:only-of-type {\n",
              "        vertical-align: middle;\n",
              "    }\n",
              "\n",
              "    .dataframe tbody tr th {\n",
              "        vertical-align: top;\n",
              "    }\n",
              "\n",
              "    .dataframe thead th {\n",
              "        text-align: right;\n",
              "    }\n",
              "</style>\n",
              "<table border=\"1\" class=\"dataframe\">\n",
              "  <thead>\n",
              "    <tr style=\"text-align: right;\">\n",
              "      <th></th>\n",
              "      <th>monto</th>\n",
              "      <th>plazo</th>\n",
              "      <th>edad</th>\n",
              "      <th>sexo</th>\n",
              "      <th>sector</th>\n",
              "      <th>mora</th>\n",
              "    </tr>\n",
              "  </thead>\n",
              "  <tbody>\n",
              "    <tr>\n",
              "      <th>0</th>\n",
              "      <td>60000</td>\n",
              "      <td>20</td>\n",
              "      <td>40</td>\n",
              "      <td>hombre</td>\n",
              "      <td>construcción</td>\n",
              "      <td>0</td>\n",
              "    </tr>\n",
              "    <tr>\n",
              "      <th>1</th>\n",
              "      <td>60000</td>\n",
              "      <td>20</td>\n",
              "      <td>59</td>\n",
              "      <td>hombre</td>\n",
              "      <td>comercio</td>\n",
              "      <td>0</td>\n",
              "    </tr>\n",
              "    <tr>\n",
              "      <th>2</th>\n",
              "      <td>50000</td>\n",
              "      <td>25</td>\n",
              "      <td>43</td>\n",
              "      <td>hombre</td>\n",
              "      <td>construcción</td>\n",
              "      <td>0</td>\n",
              "    </tr>\n",
              "    <tr>\n",
              "      <th>3</th>\n",
              "      <td>50000</td>\n",
              "      <td>17</td>\n",
              "      <td>28</td>\n",
              "      <td>hombre</td>\n",
              "      <td>construcción</td>\n",
              "      <td>0</td>\n",
              "    </tr>\n",
              "    <tr>\n",
              "      <th>4</th>\n",
              "      <td>20000</td>\n",
              "      <td>7</td>\n",
              "      <td>56</td>\n",
              "      <td>hombre</td>\n",
              "      <td>comercio</td>\n",
              "      <td>0</td>\n",
              "    </tr>\n",
              "  </tbody>\n",
              "</table>\n",
              "</div>\n",
              "      <button class=\"colab-df-convert\" onclick=\"convertToInteractive('df-2a19ea9a-9300-4e9d-bb33-7938831278a2')\"\n",
              "              title=\"Convert this dataframe to an interactive table.\"\n",
              "              style=\"display:none;\">\n",
              "        \n",
              "  <svg xmlns=\"http://www.w3.org/2000/svg\" height=\"24px\"viewBox=\"0 0 24 24\"\n",
              "       width=\"24px\">\n",
              "    <path d=\"M0 0h24v24H0V0z\" fill=\"none\"/>\n",
              "    <path d=\"M18.56 5.44l.94 2.06.94-2.06 2.06-.94-2.06-.94-.94-2.06-.94 2.06-2.06.94zm-11 1L8.5 8.5l.94-2.06 2.06-.94-2.06-.94L8.5 2.5l-.94 2.06-2.06.94zm10 10l.94 2.06.94-2.06 2.06-.94-2.06-.94-.94-2.06-.94 2.06-2.06.94z\"/><path d=\"M17.41 7.96l-1.37-1.37c-.4-.4-.92-.59-1.43-.59-.52 0-1.04.2-1.43.59L10.3 9.45l-7.72 7.72c-.78.78-.78 2.05 0 2.83L4 21.41c.39.39.9.59 1.41.59.51 0 1.02-.2 1.41-.59l7.78-7.78 2.81-2.81c.8-.78.8-2.07 0-2.86zM5.41 20L4 18.59l7.72-7.72 1.47 1.35L5.41 20z\"/>\n",
              "  </svg>\n",
              "      </button>\n",
              "      \n",
              "  <style>\n",
              "    .colab-df-container {\n",
              "      display:flex;\n",
              "      flex-wrap:wrap;\n",
              "      gap: 12px;\n",
              "    }\n",
              "\n",
              "    .colab-df-convert {\n",
              "      background-color: #E8F0FE;\n",
              "      border: none;\n",
              "      border-radius: 50%;\n",
              "      cursor: pointer;\n",
              "      display: none;\n",
              "      fill: #1967D2;\n",
              "      height: 32px;\n",
              "      padding: 0 0 0 0;\n",
              "      width: 32px;\n",
              "    }\n",
              "\n",
              "    .colab-df-convert:hover {\n",
              "      background-color: #E2EBFA;\n",
              "      box-shadow: 0px 1px 2px rgba(60, 64, 67, 0.3), 0px 1px 3px 1px rgba(60, 64, 67, 0.15);\n",
              "      fill: #174EA6;\n",
              "    }\n",
              "\n",
              "    [theme=dark] .colab-df-convert {\n",
              "      background-color: #3B4455;\n",
              "      fill: #D2E3FC;\n",
              "    }\n",
              "\n",
              "    [theme=dark] .colab-df-convert:hover {\n",
              "      background-color: #434B5C;\n",
              "      box-shadow: 0px 1px 3px 1px rgba(0, 0, 0, 0.15);\n",
              "      filter: drop-shadow(0px 1px 2px rgba(0, 0, 0, 0.3));\n",
              "      fill: #FFFFFF;\n",
              "    }\n",
              "  </style>\n",
              "\n",
              "      <script>\n",
              "        const buttonEl =\n",
              "          document.querySelector('#df-2a19ea9a-9300-4e9d-bb33-7938831278a2 button.colab-df-convert');\n",
              "        buttonEl.style.display =\n",
              "          google.colab.kernel.accessAllowed ? 'block' : 'none';\n",
              "\n",
              "        async function convertToInteractive(key) {\n",
              "          const element = document.querySelector('#df-2a19ea9a-9300-4e9d-bb33-7938831278a2');\n",
              "          const dataTable =\n",
              "            await google.colab.kernel.invokeFunction('convertToInteractive',\n",
              "                                                     [key], {});\n",
              "          if (!dataTable) return;\n",
              "\n",
              "          const docLinkHtml = 'Like what you see? Visit the ' +\n",
              "            '<a target=\"_blank\" href=https://colab.research.google.com/notebooks/data_table.ipynb>data table notebook</a>'\n",
              "            + ' to learn more about interactive tables.';\n",
              "          element.innerHTML = '';\n",
              "          dataTable['output_type'] = 'display_data';\n",
              "          await google.colab.output.renderOutput(dataTable, element);\n",
              "          const docLink = document.createElement('div');\n",
              "          docLink.innerHTML = docLinkHtml;\n",
              "          element.appendChild(docLink);\n",
              "        }\n",
              "      </script>\n",
              "    </div>\n",
              "  </div>\n",
              "  "
            ]
          },
          "metadata": {},
          "execution_count": 3
        }
      ]
    },
    {
      "cell_type": "markdown",
      "metadata": {
        "id": "C2_fMvYpzRDf"
      },
      "source": [
        "Formato"
      ]
    },
    {
      "cell_type": "code",
      "metadata": {
        "id": "WIsrRuSeE-FJ"
      },
      "source": [
        "Datos[['sexo', 'sector']] = Datos[['sexo', 'sector']].astype('category')"
      ],
      "execution_count": null,
      "outputs": []
    },
    {
      "cell_type": "markdown",
      "metadata": {
        "id": "627Gn7FbzTqK"
      },
      "source": [
        "##Ajuste con dos variables independientes"
      ]
    },
    {
      "cell_type": "markdown",
      "metadata": {
        "id": "NtXh20crEwSv"
      },
      "source": [
        "Selección de variables dependiente e independientes"
      ]
    },
    {
      "cell_type": "code",
      "metadata": {
        "id": "_YQSbcsUQJdj"
      },
      "source": [
        "X = Datos[['plazo', 'edad']]\n",
        "Y = Datos.mora"
      ],
      "execution_count": null,
      "outputs": []
    },
    {
      "cell_type": "markdown",
      "metadata": {
        "id": "pKRnv1tzFFDf"
      },
      "source": [
        "Gráfico de los grupos"
      ]
    },
    {
      "cell_type": "code",
      "metadata": {
        "id": "B5nM8h21ocHQ",
        "colab": {
          "base_uri": "https://localhost:8080/",
          "height": 279
        },
        "outputId": "d13557a0-b9c1-4fd7-bc00-132a20663028"
      },
      "source": [
        "plt.scatter(X.loc[Y == 0, 'plazo'], X.loc[Y == 0, 'edad'], c = 'green', label = 'No mora')\n",
        "plt.scatter(X.loc[Y == 1, 'plazo'], X.loc[Y == 1, 'edad'], c = 'red', label = 'Mora')\n",
        "plt.xlabel('Plazo')\n",
        "plt.ylabel('Edad')\n",
        "plt.legend()\n",
        "plt.show()"
      ],
      "execution_count": null,
      "outputs": [
        {
          "output_type": "display_data",
          "data": {
            "text/plain": [
              "<Figure size 432x288 with 1 Axes>"
            ],
            "image/png": "[encoded data removed]"
          },
          "metadata": {
            "needs_background": "light"
          }
        }
      ]
    },
    {
      "cell_type": "code",
      "metadata": {
        "id": "uq-yTXSVP2l4",
        "colab": {
          "base_uri": "https://localhost:8080/"
        },
        "outputId": "3219602b-8d6e-4126-c425-145ef36d0cc6"
      },
      "source": [
        "np.meshgrid([1, 2], [3, 4])"
      ],
      "execution_count": null,
      "outputs": [
        {
          "output_type": "execute_result",
          "data": {
            "text/plain": [
              "[array([[1, 2],\n",
              "        [1, 2]]), array([[3, 3],\n",
              "        [4, 4]])]"
            ]
          },
          "metadata": {},
          "execution_count": 8
        }
      ]
    },
    {
      "cell_type": "markdown",
      "metadata": {
        "id": "sopeDi1eFH0x"
      },
      "source": [
        "Función para graficar la clasificación del modelo y comparar con los datos observados"
      ]
    },
    {
      "cell_type": "code",
      "metadata": {
        "id": "aKRFfAfI1MKf"
      },
      "source": [
        "def graf(X1, X2, Y, modelo):\n",
        "  X1, X2 = np.array(X1), np.array(X2)\n",
        "  Z1, Z2 = np.meshgrid(np.linspace(X1.min(), X1.max()),\n",
        "                       np.linspace(X2.min(), X2.max()))\n",
        "  Z = np.array([Z1.ravel(), Z2.ravel()]).T\n",
        "  Ypr = modelo.predict(Z).reshape(Z1.shape) #reshape redimensiona a la dimensión de Z1\n",
        "  plt.contourf(Z1, Z2, Ypr, alpha = 0.75,\n",
        "               cmap = ListedColormap(('green', 'red')))\n",
        "  plt.scatter(X1[Y == np.unique(Y)[0]], X2[Y == np.unique(Y)[0]],\n",
        "              c = 'green', label = np.unique(Y)[0])\n",
        "  plt.scatter(X1[Y == np.unique(Y)[1]], X2[Y == np.unique(Y)[1]],\n",
        "              c = 'red', label = np.unique(Y)[1])\n",
        "  plt.title('Clasificación')\n",
        "  plt.xlabel('X1')\n",
        "  plt.ylabel('X2')\n",
        "  plt.legend()\n",
        "  plt.show()"
      ],
      "execution_count": null,
      "outputs": []
    },
    {
      "cell_type": "markdown",
      "metadata": {
        "id": "W5tD9U7rFwFo"
      },
      "source": [
        "Ajuste del modelo de regresión logística"
      ]
    },
    {
      "cell_type": "code",
      "metadata": {
        "id": "nT7_cm6fiBqZ",
        "colab": {
          "base_uri": "https://localhost:8080/",
          "height": 295
        },
        "outputId": "fa27f2f1-a0b8-4181-e477-bd2e5465cdc3"
      },
      "source": [
        "modelo = LogisticRegression().fit(X,Y)\n",
        "graf(X.iloc[:,0], X.iloc[:,1], Y, modelo)"
      ],
      "execution_count": null,
      "outputs": [
        {
          "output_type": "display_data",
          "data": {
            "text/plain": [
              "<Figure size 432x288 with 1 Axes>"
            ],
            "image/png": "[encoded data removed]"
          },
          "metadata": {
            "needs_background": "light"
          }
        }
      ]
    },
    {
      "cell_type": "markdown",
      "metadata": {
        "id": "vplpncwtziio"
      },
      "source": [
        "## Ajuste con más de dos variables independientes"
      ]
    },
    {
      "cell_type": "markdown",
      "metadata": {
        "id": "rOV28j7WFrFp"
      },
      "source": [
        "Selección de variables"
      ]
    },
    {
      "cell_type": "code",
      "metadata": {
        "id": "YnXl-eK8CYDG"
      },
      "source": [
        "X = Datos.select_dtypes('number').drop('mora', axis=1)\n",
        "D = pd.get_dummies(Datos.select_dtypes('category'), drop_first=True)\n",
        "XD = pd.concat([D, X], axis=1)\n",
        "Y = Datos.mora"
      ],
      "execution_count": null,
      "outputs": []
    },
    {
      "cell_type": "markdown",
      "metadata": {
        "id": "523_Zf5q22mf"
      },
      "source": [
        "Función para graficar la clasificación del modelo con más de dos variables independientes utilizando componentes principales, y comparar con los datos observados"
      ]
    },
    {
      "cell_type": "code",
      "metadata": {
        "id": "uqHhFAlGGiNV"
      },
      "source": [
        "def grafv(X, Y, modelo):\n",
        "  Z = StandardScaler().fit_transform(X)\n",
        "  ACP = PCA(2).fit(Z)\n",
        "  CP = ACP.fit_transform(Z)\n",
        "  C1, C2 = np.meshgrid(np.linspace(CP[:,0].min(), CP[:,0].max()),\n",
        "                       np.linspace(CP[:,1].min(), CP[:,1].max()))\n",
        "  C = np.array([C1.ravel(), C2.ravel()]).T\n",
        "  Xt = pd.DataFrame(C@ACP.components_, columns=X.columns.values)*X.std() + X.mean()\n",
        "  Yp = modelo.predict(Xt).reshape(C1.shape)\n",
        "  plt.contourf(C1, C2, Yp, alpha = 0.75,\n",
        "              cmap = ListedColormap(('green', 'red')))\n",
        "  plt.scatter(CP[Y == np.unique(Y)[0], 0], CP[Y == np.unique(Y)[0], 1],\n",
        "              c = 'green', label = np.unique(Y)[0])\n",
        "  plt.scatter(CP[Y == np.unique(Y)[1], 0], CP[Y == np.unique(Y)[1], 1],\n",
        "              c = 'red', label = np.unique(Y)[1])\n",
        "  plt.title('Clasificación')\n",
        "  plt.xlabel('CP1')\n",
        "  plt.ylabel('CP2')\n",
        "  plt.legend()\n",
        "  plt.show()"
      ],
      "execution_count": null,
      "outputs": []
    },
    {
      "cell_type": "markdown",
      "metadata": {
        "id": "E-bYfinR3JCT"
      },
      "source": [
        "Ajuste del modelo de regresión logística"
      ]
    },
    {
      "cell_type": "code",
      "metadata": {
        "id": "JkTj1MJa0zYW",
        "colab": {
          "base_uri": "https://localhost:8080/",
          "height": 295
        },
        "outputId": "e5f1f914-373e-4bf9-d69c-07da1755b1e7"
      },
      "source": [
        "modelov = LogisticRegression().fit(XD, Y)\n",
        "grafv(XD, Y, modelov)"
      ],
      "execution_count": null,
      "outputs": [
        {
          "output_type": "display_data",
          "data": {
            "text/plain": [
              "<Figure size 432x288 with 1 Axes>"
            ],
            "image/png": "[encoded data removed]"
          },
          "metadata": {
            "needs_background": "light"
          }
        }
      ]
    },
    {
      "cell_type": "markdown",
      "metadata": {
        "id": "naUCuZKbj137"
      },
      "source": [
        "#Evaluación"
      ]
    },
    {
      "cell_type": "markdown",
      "metadata": {
        "id": "mrf1Wmlniwpd"
      },
      "source": [
        "Para evaluar la calidad de una clasificación binaria, se tienen varias métricas. Para explicarlas se parte de considerar que dada una variable binaria, es decir, dos categorías, que se denominarán: positivos ($P$) y negativos ($N$), y una variable de predicción cuyos valores son predicciones de positivos y de negativos, entonces se tiene que:\n",
        "\n",
        "*   La cantidad de positivos correctamente predichos se denomina Verdaderos Positivos ($VP$)\n",
        "*   La cantidad de negativos correctamente predichos se denomina Verdaderos Negativos ($VN$)\n",
        "*   La cantidad de negativos incorrectamente predichos se denomina Falsos Positivos ($FP$)\n",
        "*   La cantidad de positivos incorrectamente predichos se denomina Falsos Negativos ($FN$)\n",
        "\n",
        "Luego el Total, los Positivos y los Negativos son respectivamante:\n",
        "\\begin{eqnarray*}\n",
        "T &=&VP+VN+FP+FN \\\\\n",
        "P &=&VP+FP \\\\\n",
        "N &=&VN+FN\n",
        "\\end{eqnarray*}\n",
        "Una de las medidas más utilizadas pero con importantes desventajas es la precisión o accuracy\n",
        "\\begin{eqnarray*}\n",
        "A=\\frac{VP+VN}{T}\n",
        "\\end{eqnarray*}\n",
        "Esta medida es adecuada si los grupos originales tienen proporciones iguales o aproximadamente iguales, pero resulta engañoso en caso contrario.\n",
        "\n",
        "Asimismo, se tiene la métrica $AUC$ que es el área bajo la curva denominada $ROC$, donde esta curva se grafica en el plano en el que las abscisas y las ordenadas varían de 0 a 1; un punto de la curva ROC es el par ($R,1-S$), donde $R$ es la Sensibilidad o Recall, definida como $R=\\frac{VP}{VP+FN}$, y $S$ es la Especificidad, definida como $S=\\frac{VN}{FP+VN}$, entonces el área bajo la curva $ROC$ es:\n",
        "\\begin{eqnarray*}\n",
        "AUC=\\int_{0}^{1}R\\left( 1-S\\right) d\\left( 1-S\\right)\n",
        "\\end{eqnarray*}\n",
        "aquí $R\\left( 1-S\\right)$ se entiende al recall como función del complemento de la especificidad.\n",
        "\n"
      ]
    },
    {
      "cell_type": "code",
      "metadata": {
        "id": "b77Bq-IiGHxj"
      },
      "source": [
        "Xent, Xval, Yent, Yval = train_test_split(XD, Y, test_size=0.25)"
      ],
      "execution_count": null,
      "outputs": []
    },
    {
      "cell_type": "code",
      "metadata": {
        "id": "xuLsP2JbF7kU",
        "colab": {
          "base_uri": "https://localhost:8080/",
          "height": 161
        },
        "outputId": "d5038cc1-d906-40ed-ecf2-2dc3d6d6992a"
      },
      "source": [
        "Yvalp = LogisticRegression().fit(Xent, Yent).predict(Xval)\n",
        "tc = pd.crosstab(Yval, Yvalp)\n",
        "print('Precisión: ', np.trace(tc)/tc.sum().sum())\n",
        "tc"
      ],
      "execution_count": null,
      "outputs": [
        {
          "output_type": "stream",
          "name": "stdout",
          "text": [
            "Precisión:  0.8488372093023255\n"
          ]
        },
        {
          "output_type": "execute_result",
          "data": {
            "text/plain": [
              "col_0   0   1\n",
              "mora         \n",
              "0      57   1\n",
              "1      12  16"
            ],
            "text/html": [
              "\n",
              "  <div id=\"df-a494eb5e-fba0-40a8-aebe-5a302f3ce1c4\">\n",
              "    <div class=\"colab-df-container\">\n",
              "      <div>\n",
              "<style scoped>\n",
              "    .dataframe tbody tr th:only-of-type {\n",
              "        vertical-align: middle;\n",
              "    }\n",
              "\n",
              "    .dataframe tbody tr th {\n",
              "        vertical-align: top;\n",
              "    }\n",
              "\n",
              "    .dataframe thead th {\n",
              "        text-align: right;\n",
              "    }\n",
              "</style>\n",
              "<table border=\"1\" class=\"dataframe\">\n",
              "  <thead>\n",
              "    <tr style=\"text-align: right;\">\n",
              "      <th>col_0</th>\n",
              "      <th>0</th>\n",
              "      <th>1</th>\n",
              "    </tr>\n",
              "    <tr>\n",
              "      <th>mora</th>\n",
              "      <th></th>\n",
              "      <th></th>\n",
              "    </tr>\n",
              "  </thead>\n",
              "  <tbody>\n",
              "    <tr>\n",
              "      <th>0</th>\n",
              "      <td>57</td>\n",
              "      <td>1</td>\n",
              "    </tr>\n",
              "    <tr>\n",
              "      <th>1</th>\n",
              "      <td>12</td>\n",
              "      <td>16</td>\n",
              "    </tr>\n",
              "  </tbody>\n",
              "</table>\n",
              "</div>\n",
              "      <button class=\"colab-df-convert\" onclick=\"convertToInteractive('df-a494eb5e-fba0-40a8-aebe-5a302f3ce1c4')\"\n",
              "              title=\"Convert this dataframe to an interactive table.\"\n",
              "              style=\"display:none;\">\n",
              "        \n",
              "  <svg xmlns=\"http://www.w3.org/2000/svg\" height=\"24px\"viewBox=\"0 0 24 24\"\n",
              "       width=\"24px\">\n",
              "    <path d=\"M0 0h24v24H0V0z\" fill=\"none\"/>\n",
              "    <path d=\"M18.56 5.44l.94 2.06.94-2.06 2.06-.94-2.06-.94-.94-2.06-.94 2.06-2.06.94zm-11 1L8.5 8.5l.94-2.06 2.06-.94-2.06-.94L8.5 2.5l-.94 2.06-2.06.94zm10 10l.94 2.06.94-2.06 2.06-.94-2.06-.94-.94-2.06-.94 2.06-2.06.94z\"/><path d=\"M17.41 7.96l-1.37-1.37c-.4-.4-.92-.59-1.43-.59-.52 0-1.04.2-1.43.59L10.3 9.45l-7.72 7.72c-.78.78-.78 2.05 0 2.83L4 21.41c.39.39.9.59 1.41.59.51 0 1.02-.2 1.41-.59l7.78-7.78 2.81-2.81c.8-.78.8-2.07 0-2.86zM5.41 20L4 18.59l7.72-7.72 1.47 1.35L5.41 20z\"/>\n",
              "  </svg>\n",
              "      </button>\n",
              "      \n",
              "  <style>\n",
              "    .colab-df-container {\n",
              "      display:flex;\n",
              "      flex-wrap:wrap;\n",
              "      gap: 12px;\n",
              "    }\n",
              "\n",
              "    .colab-df-convert {\n",
              "      background-color: #E8F0FE;\n",
              "      border: none;\n",
              "      border-radius: 50%;\n",
              "      cursor: pointer;\n",
              "      display: none;\n",
              "      fill: #1967D2;\n",
              "      height: 32px;\n",
              "      padding: 0 0 0 0;\n",
              "      width: 32px;\n",
              "    }\n",
              "\n",
              "    .colab-df-convert:hover {\n",
              "      background-color: #E2EBFA;\n",
              "      box-shadow: 0px 1px 2px rgba(60, 64, 67, 0.3), 0px 1px 3px 1px rgba(60, 64, 67, 0.15);\n",
              "      fill: #174EA6;\n",
              "    }\n",
              "\n",
              "    [theme=dark] .colab-df-convert {\n",
              "      background-color: #3B4455;\n",
              "      fill: #D2E3FC;\n",
              "    }\n",
              "\n",
              "    [theme=dark] .colab-df-convert:hover {\n",
              "      background-color: #434B5C;\n",
              "      box-shadow: 0px 1px 3px 1px rgba(0, 0, 0, 0.15);\n",
              "      filter: drop-shadow(0px 1px 2px rgba(0, 0, 0, 0.3));\n",
              "      fill: #FFFFFF;\n",
              "    }\n",
              "  </style>\n",
              "\n",
              "      <script>\n",
              "        const buttonEl =\n",
              "          document.querySelector('#df-a494eb5e-fba0-40a8-aebe-5a302f3ce1c4 button.colab-df-convert');\n",
              "        buttonEl.style.display =\n",
              "          google.colab.kernel.accessAllowed ? 'block' : 'none';\n",
              "\n",
              "        async function convertToInteractive(key) {\n",
              "          const element = document.querySelector('#df-a494eb5e-fba0-40a8-aebe-5a302f3ce1c4');\n",
              "          const dataTable =\n",
              "            await google.colab.kernel.invokeFunction('convertToInteractive',\n",
              "                                                     [key], {});\n",
              "          if (!dataTable) return;\n",
              "\n",
              "          const docLinkHtml = 'Like what you see? Visit the ' +\n",
              "            '<a target=\"_blank\" href=https://colab.research.google.com/notebooks/data_table.ipynb>data table notebook</a>'\n",
              "            + ' to learn more about interactive tables.';\n",
              "          element.innerHTML = '';\n",
              "          dataTable['output_type'] = 'display_data';\n",
              "          await google.colab.output.renderOutput(dataTable, element);\n",
              "          const docLink = document.createElement('div');\n",
              "          docLink.innerHTML = docLinkHtml;\n",
              "          element.appendChild(docLink);\n",
              "        }\n",
              "      </script>\n",
              "    </div>\n",
              "  </div>\n",
              "  "
            ]
          },
          "metadata": {},
          "execution_count": 15
        }
      ]
    },
    {
      "cell_type": "code",
      "metadata": {
        "id": "eYQtxrKMELzl",
        "colab": {
          "base_uri": "https://localhost:8080/",
          "height": 161
        },
        "outputId": "0b9d7553-794f-4130-b0c9-45d3fc626824"
      },
      "source": [
        "Ypr = cross_val_predict(LogisticRegression(), XD, Y, cv=5)\n",
        "mc = pd.crosstab(Y, Ypr)\n",
        "print('Precisión: ', np.trace(mc)/mc.sum().sum())\n",
        "mc"
      ],
      "execution_count": null,
      "outputs": [
        {
          "output_type": "stream",
          "name": "stdout",
          "text": [
            "Precisión:  0.8333333333333334\n"
          ]
        },
        {
          "output_type": "execute_result",
          "data": {
            "text/plain": [
              "col_0    0   1\n",
              "mora          \n",
              "0      216   7\n",
              "1       50  69"
            ],
            "text/html": [
              "\n",
              "  <div id=\"df-360c341d-4ca7-4299-ae4e-a5b5016fc921\">\n",
              "    <div class=\"colab-df-container\">\n",
              "      <div>\n",
              "<style scoped>\n",
              "    .dataframe tbody tr th:only-of-type {\n",
              "        vertical-align: middle;\n",
              "    }\n",
              "\n",
              "    .dataframe tbody tr th {\n",
              "        vertical-align: top;\n",
              "    }\n",
              "\n",
              "    .dataframe thead th {\n",
              "        text-align: right;\n",
              "    }\n",
              "</style>\n",
              "<table border=\"1\" class=\"dataframe\">\n",
              "  <thead>\n",
              "    <tr style=\"text-align: right;\">\n",
              "      <th>col_0</th>\n",
              "      <th>0</th>\n",
              "      <th>1</th>\n",
              "    </tr>\n",
              "    <tr>\n",
              "      <th>mora</th>\n",
              "      <th></th>\n",
              "      <th></th>\n",
              "    </tr>\n",
              "  </thead>\n",
              "  <tbody>\n",
              "    <tr>\n",
              "      <th>0</th>\n",
              "      <td>216</td>\n",
              "      <td>7</td>\n",
              "    </tr>\n",
              "    <tr>\n",
              "      <th>1</th>\n",
              "      <td>50</td>\n",
              "      <td>69</td>\n",
              "    </tr>\n",
              "  </tbody>\n",
              "</table>\n",
              "</div>\n",
              "      <button class=\"colab-df-convert\" onclick=\"convertToInteractive('df-360c341d-4ca7-4299-ae4e-a5b5016fc921')\"\n",
              "              title=\"Convert this dataframe to an interactive table.\"\n",
              "              style=\"display:none;\">\n",
              "        \n",
              "  <svg xmlns=\"http://www.w3.org/2000/svg\" height=\"24px\"viewBox=\"0 0 24 24\"\n",
              "       width=\"24px\">\n",
              "    <path d=\"M0 0h24v24H0V0z\" fill=\"none\"/>\n",
              "    <path d=\"M18.56 5.44l.94 2.06.94-2.06 2.06-.94-2.06-.94-.94-2.06-.94 2.06-2.06.94zm-11 1L8.5 8.5l.94-2.06 2.06-.94-2.06-.94L8.5 2.5l-.94 2.06-2.06.94zm10 10l.94 2.06.94-2.06 2.06-.94-2.06-.94-.94-2.06-.94 2.06-2.06.94z\"/><path d=\"M17.41 7.96l-1.37-1.37c-.4-.4-.92-.59-1.43-.59-.52 0-1.04.2-1.43.59L10.3 9.45l-7.72 7.72c-.78.78-.78 2.05 0 2.83L4 21.41c.39.39.9.59 1.41.59.51 0 1.02-.2 1.41-.59l7.78-7.78 2.81-2.81c.8-.78.8-2.07 0-2.86zM5.41 20L4 18.59l7.72-7.72 1.47 1.35L5.41 20z\"/>\n",
              "  </svg>\n",
              "      </button>\n",
              "      \n",
              "  <style>\n",
              "    .colab-df-container {\n",
              "      display:flex;\n",
              "      flex-wrap:wrap;\n",
              "      gap: 12px;\n",
              "    }\n",
              "\n",
              "    .colab-df-convert {\n",
              "      background-color: #E8F0FE;\n",
              "      border: none;\n",
              "      border-radius: 50%;\n",
              "      cursor: pointer;\n",
              "      display: none;\n",
              "      fill: #1967D2;\n",
              "      height: 32px;\n",
              "      padding: 0 0 0 0;\n",
              "      width: 32px;\n",
              "    }\n",
              "\n",
              "    .colab-df-convert:hover {\n",
              "      background-color: #E2EBFA;\n",
              "      box-shadow: 0px 1px 2px rgba(60, 64, 67, 0.3), 0px 1px 3px 1px rgba(60, 64, 67, 0.15);\n",
              "      fill: #174EA6;\n",
              "    }\n",
              "\n",
              "    [theme=dark] .colab-df-convert {\n",
              "      background-color: #3B4455;\n",
              "      fill: #D2E3FC;\n",
              "    }\n",
              "\n",
              "    [theme=dark] .colab-df-convert:hover {\n",
              "      background-color: #434B5C;\n",
              "      box-shadow: 0px 1px 3px 1px rgba(0, 0, 0, 0.15);\n",
              "      filter: drop-shadow(0px 1px 2px rgba(0, 0, 0, 0.3));\n",
              "      fill: #FFFFFF;\n",
              "    }\n",
              "  </style>\n",
              "\n",
              "      <script>\n",
              "        const buttonEl =\n",
              "          document.querySelector('#df-360c341d-4ca7-4299-ae4e-a5b5016fc921 button.colab-df-convert');\n",
              "        buttonEl.style.display =\n",
              "          google.colab.kernel.accessAllowed ? 'block' : 'none';\n",
              "\n",
              "        async function convertToInteractive(key) {\n",
              "          const element = document.querySelector('#df-360c341d-4ca7-4299-ae4e-a5b5016fc921');\n",
              "          const dataTable =\n",
              "            await google.colab.kernel.invokeFunction('convertToInteractive',\n",
              "                                                     [key], {});\n",
              "          if (!dataTable) return;\n",
              "\n",
              "          const docLinkHtml = 'Like what you see? Visit the ' +\n",
              "            '<a target=\"_blank\" href=https://colab.research.google.com/notebooks/data_table.ipynb>data table notebook</a>'\n",
              "            + ' to learn more about interactive tables.';\n",
              "          element.innerHTML = '';\n",
              "          dataTable['output_type'] = 'display_data';\n",
              "          await google.colab.output.renderOutput(dataTable, element);\n",
              "          const docLink = document.createElement('div');\n",
              "          docLink.innerHTML = docLinkHtml;\n",
              "          element.appendChild(docLink);\n",
              "        }\n",
              "      </script>\n",
              "    </div>\n",
              "  </div>\n",
              "  "
            ]
          },
          "metadata": {},
          "execution_count": 16
        }
      ]
    },
    {
      "cell_type": "code",
      "metadata": {
        "id": "roZw0l2R-TyO",
        "colab": {
          "base_uri": "https://localhost:8080/"
        },
        "outputId": "d84894b6-6e11-4e58-98c3-070b988f972b"
      },
      "source": [
        "accs = cross_val_score(LogisticRegression(), XD, Y, cv=5)\n",
        "print(accs)\n",
        "print(accs.mean())"
      ],
      "execution_count": null,
      "outputs": [
        {
          "output_type": "stream",
          "name": "stdout",
          "text": [
            "[0.85507246 0.85507246 0.80882353 0.82352941 0.82352941]\n",
            "0.8332054560954816\n"
          ]
        }
      ]
    },
    {
      "cell_type": "code",
      "metadata": {
        "id": "flj67TXT_If-",
        "colab": {
          "base_uri": "https://localhost:8080/"
        },
        "outputId": "81dd45e1-b527-4857-896b-4046b81128a3"
      },
      "source": [
        "aucs = cross_val_score(LogisticRegression(), XD, Y, scoring='roc_auc', cv=5)\n",
        "print(aucs)\n",
        "print(aucs.mean())"
      ],
      "execution_count": null,
      "outputs": [
        {
          "output_type": "stream",
          "name": "stdout",
          "text": [
            "[0.84583333 0.82731481 0.81449275 0.87121212 0.82670455]\n",
            "0.8371115136876007\n"
          ]
        }
      ]
    }
  ]
}