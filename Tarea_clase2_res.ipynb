{
  "nbformat": 4,
  "nbformat_minor": 0,
  "metadata": {
    "colab": {
      "name": "Tarea_clase2_res.ipynb",
      "provenance": [],
      "authorship_tag": "ABX9TyOxfUEif7D9jMqoY8Uowjgd"
    },
    "kernelspec": {
      "name": "python3",
      "display_name": "Python 3"
    }
  },
  "cells": [
    {
      "cell_type": "code",
      "metadata": {
        "id": "k5iwEnkr_anW",
        "colab_type": "code",
        "colab": {}
      },
      "source": [
        "import pandas as pd\n",
        "import numpy as np"
      ],
      "execution_count": null,
      "outputs": []
    },
    {
      "cell_type": "code",
      "metadata": {
        "id": "3O4ueezN_e4b",
        "colab_type": "code",
        "colab": {}
      },
      "source": [
        "Empleados=pd.read_csv(\"https://raw.githubusercontent.com/AlcidesOxa/datos/master/ejemplo.csv\",sep=';',encoding=\"ISO-8859-1\")\n",
        "Empleados.head()"
      ],
      "execution_count": null,
      "outputs": []
    },
    {
      "cell_type": "code",
      "metadata": {
        "id": "KvI7pyvF_iVv",
        "colab_type": "code",
        "colab": {}
      },
      "source": [
        "cambio={'Años estudio':'Anios_estudio', 'Estado Civil':'Estado_civil', 'Satisfacción Trabajo':'Satisfaccion_trabajo', 'Fecha contrato':'Fecha_contrato'}\n",
        "Empleados.rename(columns=cambio,inplace=True)\n",
        "casosborrar=[3,5,8]\n",
        "Empleados=Empleados.drop(casosborrar)\n",
        "varborrar=['Faltas','Permisos']\n",
        "Empleados=Empleados.drop(varborrar,axis=1)\n",
        "varcategoricas=['Sexo','Estado_civil','Satisfaccion_trabajo']\n",
        "Empleados[varcategoricas]=Empleados[varcategoricas].fillna('Desconocido')\n",
        "Empleados[varcategoricas]=Empleados[varcategoricas].astype('category')\n",
        "Empleados['Fecha_contrato']=pd.to_datetime(Empleados.Fecha_contrato)\n",
        "orden_ec=Empleados.Estado_civil.cat.categories.values[[3,0,2,4,1]].tolist()\n",
        "orden_st=Empleados.Satisfaccion_trabajo.cat.categories.values[[2,3,0,1]].tolist()\n",
        "Empleados.Estado_civil=Empleados.Estado_civil.cat.reorder_categories(orden_ec)\n",
        "Empleados.Satisfaccion_trabajo=Empleados.Satisfaccion_trabajo.cat.reorder_categories(orden_st)\n",
        "Empleados['Satisfaccion_trabajo']=Empleados.Satisfaccion_trabajo.cat.rename_categories(\n",
        "    ['Insatisfecho(a)','Neutral','Satisfecho(a)','Desconocido'])\n",
        "Empleados['Experiencia_lab']=Empleados.Edad-Empleados.Anios_estudio-5\n",
        "Empleados['Balance']=Empleados.Ingresos-Empleados.Gastos"
      ],
      "execution_count": null,
      "outputs": []
    },
    {
      "cell_type": "markdown",
      "metadata": {
        "id": "6bPcWpMgAUp0",
        "colab_type": "text"
      },
      "source": [
        "Obtener las frecuencias absolutas y relativas de Satisfacción"
      ]
    },
    {
      "cell_type": "code",
      "metadata": {
        "id": "M40Yk-R5_zWm",
        "colab_type": "code",
        "colab": {
          "base_uri": "https://localhost:8080/",
          "height": 106
        },
        "outputId": "770ef477-03fc-45de-a424-1df2eb2af274"
      },
      "source": [
        "Empleados.Satisfaccion_trabajo.value_counts()"
      ],
      "execution_count": null,
      "outputs": [
        {
          "output_type": "execute_result",
          "data": {
            "text/plain": [
              "Insatisfecho(a)    9\n",
              "Neutral            8\n",
              "Satisfecho(a)      6\n",
              "Desconocido        4\n",
              "Name: Satisfaccion_trabajo, dtype: int64"
            ]
          },
          "metadata": {
            "tags": []
          },
          "execution_count": 4
        }
      ]
    },
    {
      "cell_type": "code",
      "metadata": {
        "id": "RiVommkDAON0",
        "colab_type": "code",
        "colab": {
          "base_uri": "https://localhost:8080/",
          "height": 106
        },
        "outputId": "4e4473dc-f06a-4cd6-a5d1-4190accf6242"
      },
      "source": [
        "Empleados.Satisfaccion_trabajo.value_counts(normalize=True)"
      ],
      "execution_count": null,
      "outputs": [
        {
          "output_type": "execute_result",
          "data": {
            "text/plain": [
              "Insatisfecho(a)    0.333333\n",
              "Neutral            0.296296\n",
              "Satisfecho(a)      0.222222\n",
              "Desconocido        0.148148\n",
              "Name: Satisfaccion_trabajo, dtype: float64"
            ]
          },
          "metadata": {
            "tags": []
          },
          "execution_count": 5
        }
      ]
    },
    {
      "cell_type": "markdown",
      "metadata": {
        "id": "hfZYho7WAX95",
        "colab_type": "text"
      },
      "source": [
        "Crear las Tablas cruzadas de sexo y satisfacción con frecuencias conjuntas absolutas, relativas, condicionales por fila y por columna"
      ]
    },
    {
      "cell_type": "code",
      "metadata": {
        "id": "5k3-md-gAvEG",
        "colab_type": "code",
        "colab": {
          "base_uri": "https://localhost:8080/",
          "height": 168
        },
        "outputId": "2d5dc1aa-151a-49e4-bd78-56e72d474a25"
      },
      "source": [
        "pd.crosstab(Empleados.Sexo, Empleados.Satisfaccion_trabajo, margins=True, margins_name='Total')"
      ],
      "execution_count": null,
      "outputs": [
        {
          "output_type": "execute_result",
          "data": {
            "text/html": [
              "<div>\n",
              "<style scoped>\n",
              "    .dataframe tbody tr th:only-of-type {\n",
              "        vertical-align: middle;\n",
              "    }\n",
              "\n",
              "    .dataframe tbody tr th {\n",
              "        vertical-align: top;\n",
              "    }\n",
              "\n",
              "    .dataframe thead th {\n",
              "        text-align: right;\n",
              "    }\n",
              "</style>\n",
              "<table border=\"1\" class=\"dataframe\">\n",
              "  <thead>\n",
              "    <tr style=\"text-align: right;\">\n",
              "      <th>Satisfaccion_trabajo</th>\n",
              "      <th>Insatisfecho(a)</th>\n",
              "      <th>Neutral</th>\n",
              "      <th>Satisfecho(a)</th>\n",
              "      <th>Desconocido</th>\n",
              "      <th>Total</th>\n",
              "    </tr>\n",
              "    <tr>\n",
              "      <th>Sexo</th>\n",
              "      <th></th>\n",
              "      <th></th>\n",
              "      <th></th>\n",
              "      <th></th>\n",
              "      <th></th>\n",
              "    </tr>\n",
              "  </thead>\n",
              "  <tbody>\n",
              "    <tr>\n",
              "      <th>Hombre</th>\n",
              "      <td>6</td>\n",
              "      <td>4</td>\n",
              "      <td>3</td>\n",
              "      <td>3</td>\n",
              "      <td>16</td>\n",
              "    </tr>\n",
              "    <tr>\n",
              "      <th>Mujer</th>\n",
              "      <td>3</td>\n",
              "      <td>4</td>\n",
              "      <td>3</td>\n",
              "      <td>1</td>\n",
              "      <td>11</td>\n",
              "    </tr>\n",
              "    <tr>\n",
              "      <th>Total</th>\n",
              "      <td>9</td>\n",
              "      <td>8</td>\n",
              "      <td>6</td>\n",
              "      <td>4</td>\n",
              "      <td>27</td>\n",
              "    </tr>\n",
              "  </tbody>\n",
              "</table>\n",
              "</div>"
            ],
            "text/plain": [
              "Satisfaccion_trabajo  Insatisfecho(a)  Neutral  ...  Desconocido  Total\n",
              "Sexo                                            ...                    \n",
              "Hombre                              6        4  ...            3     16\n",
              "Mujer                               3        4  ...            1     11\n",
              "Total                               9        8  ...            4     27\n",
              "\n",
              "[3 rows x 5 columns]"
            ]
          },
          "metadata": {
            "tags": []
          },
          "execution_count": 6
        }
      ]
    },
    {
      "cell_type": "code",
      "metadata": {
        "id": "sP8SAKLtBMx2",
        "colab_type": "code",
        "colab": {
          "base_uri": "https://localhost:8080/",
          "height": 168
        },
        "outputId": "884ade6c-5928-4c2f-fb64-537f9dbb10e4"
      },
      "source": [
        "pd.crosstab(Empleados.Sexo, Empleados.Satisfaccion_trabajo, margins=True, margins_name='Total', normalize=True)"
      ],
      "execution_count": null,
      "outputs": [
        {
          "output_type": "execute_result",
          "data": {
            "text/html": [
              "<div>\n",
              "<style scoped>\n",
              "    .dataframe tbody tr th:only-of-type {\n",
              "        vertical-align: middle;\n",
              "    }\n",
              "\n",
              "    .dataframe tbody tr th {\n",
              "        vertical-align: top;\n",
              "    }\n",
              "\n",
              "    .dataframe thead th {\n",
              "        text-align: right;\n",
              "    }\n",
              "</style>\n",
              "<table border=\"1\" class=\"dataframe\">\n",
              "  <thead>\n",
              "    <tr style=\"text-align: right;\">\n",
              "      <th>Satisfaccion_trabajo</th>\n",
              "      <th>Insatisfecho(a)</th>\n",
              "      <th>Neutral</th>\n",
              "      <th>Satisfecho(a)</th>\n",
              "      <th>Desconocido</th>\n",
              "      <th>Total</th>\n",
              "    </tr>\n",
              "    <tr>\n",
              "      <th>Sexo</th>\n",
              "      <th></th>\n",
              "      <th></th>\n",
              "      <th></th>\n",
              "      <th></th>\n",
              "      <th></th>\n",
              "    </tr>\n",
              "  </thead>\n",
              "  <tbody>\n",
              "    <tr>\n",
              "      <th>Hombre</th>\n",
              "      <td>0.222222</td>\n",
              "      <td>0.148148</td>\n",
              "      <td>0.111111</td>\n",
              "      <td>0.111111</td>\n",
              "      <td>0.592593</td>\n",
              "    </tr>\n",
              "    <tr>\n",
              "      <th>Mujer</th>\n",
              "      <td>0.111111</td>\n",
              "      <td>0.148148</td>\n",
              "      <td>0.111111</td>\n",
              "      <td>0.037037</td>\n",
              "      <td>0.407407</td>\n",
              "    </tr>\n",
              "    <tr>\n",
              "      <th>Total</th>\n",
              "      <td>0.333333</td>\n",
              "      <td>0.296296</td>\n",
              "      <td>0.222222</td>\n",
              "      <td>0.148148</td>\n",
              "      <td>1.000000</td>\n",
              "    </tr>\n",
              "  </tbody>\n",
              "</table>\n",
              "</div>"
            ],
            "text/plain": [
              "Satisfaccion_trabajo  Insatisfecho(a)   Neutral  ...  Desconocido     Total\n",
              "Sexo                                             ...                       \n",
              "Hombre                       0.222222  0.148148  ...     0.111111  0.592593\n",
              "Mujer                        0.111111  0.148148  ...     0.037037  0.407407\n",
              "Total                        0.333333  0.296296  ...     0.148148  1.000000\n",
              "\n",
              "[3 rows x 5 columns]"
            ]
          },
          "metadata": {
            "tags": []
          },
          "execution_count": 7
        }
      ]
    },
    {
      "cell_type": "code",
      "metadata": {
        "id": "BzsJwxKiBVo5",
        "colab_type": "code",
        "colab": {
          "base_uri": "https://localhost:8080/",
          "height": 138
        },
        "outputId": "3a5281ce-cbd2-46ef-a6ec-227fb483c189"
      },
      "source": [
        "pd.crosstab(Empleados.Sexo, Empleados.Satisfaccion_trabajo, margins=True, margins_name='Total', normalize='columns')"
      ],
      "execution_count": null,
      "outputs": [
        {
          "output_type": "execute_result",
          "data": {
            "text/html": [
              "<div>\n",
              "<style scoped>\n",
              "    .dataframe tbody tr th:only-of-type {\n",
              "        vertical-align: middle;\n",
              "    }\n",
              "\n",
              "    .dataframe tbody tr th {\n",
              "        vertical-align: top;\n",
              "    }\n",
              "\n",
              "    .dataframe thead th {\n",
              "        text-align: right;\n",
              "    }\n",
              "</style>\n",
              "<table border=\"1\" class=\"dataframe\">\n",
              "  <thead>\n",
              "    <tr style=\"text-align: right;\">\n",
              "      <th>Satisfaccion_trabajo</th>\n",
              "      <th>Insatisfecho(a)</th>\n",
              "      <th>Neutral</th>\n",
              "      <th>Satisfecho(a)</th>\n",
              "      <th>Desconocido</th>\n",
              "      <th>Total</th>\n",
              "    </tr>\n",
              "    <tr>\n",
              "      <th>Sexo</th>\n",
              "      <th></th>\n",
              "      <th></th>\n",
              "      <th></th>\n",
              "      <th></th>\n",
              "      <th></th>\n",
              "    </tr>\n",
              "  </thead>\n",
              "  <tbody>\n",
              "    <tr>\n",
              "      <th>Hombre</th>\n",
              "      <td>0.666667</td>\n",
              "      <td>0.5</td>\n",
              "      <td>0.5</td>\n",
              "      <td>0.75</td>\n",
              "      <td>0.592593</td>\n",
              "    </tr>\n",
              "    <tr>\n",
              "      <th>Mujer</th>\n",
              "      <td>0.333333</td>\n",
              "      <td>0.5</td>\n",
              "      <td>0.5</td>\n",
              "      <td>0.25</td>\n",
              "      <td>0.407407</td>\n",
              "    </tr>\n",
              "  </tbody>\n",
              "</table>\n",
              "</div>"
            ],
            "text/plain": [
              "Satisfaccion_trabajo  Insatisfecho(a)  Neutral  ...  Desconocido     Total\n",
              "Sexo                                            ...                       \n",
              "Hombre                       0.666667      0.5  ...         0.75  0.592593\n",
              "Mujer                        0.333333      0.5  ...         0.25  0.407407\n",
              "\n",
              "[2 rows x 5 columns]"
            ]
          },
          "metadata": {
            "tags": []
          },
          "execution_count": 8
        }
      ]
    },
    {
      "cell_type": "code",
      "metadata": {
        "id": "BHD5DP6ZBVPZ",
        "colab_type": "code",
        "colab": {
          "base_uri": "https://localhost:8080/",
          "height": 168
        },
        "outputId": "ff157b02-8ea4-438e-ffb5-1c0c05891b94"
      },
      "source": [
        "pd.crosstab(Empleados.Sexo, Empleados.Satisfaccion_trabajo, margins=True, margins_name='Total', normalize='index')"
      ],
      "execution_count": null,
      "outputs": [
        {
          "output_type": "execute_result",
          "data": {
            "text/html": [
              "<div>\n",
              "<style scoped>\n",
              "    .dataframe tbody tr th:only-of-type {\n",
              "        vertical-align: middle;\n",
              "    }\n",
              "\n",
              "    .dataframe tbody tr th {\n",
              "        vertical-align: top;\n",
              "    }\n",
              "\n",
              "    .dataframe thead th {\n",
              "        text-align: right;\n",
              "    }\n",
              "</style>\n",
              "<table border=\"1\" class=\"dataframe\">\n",
              "  <thead>\n",
              "    <tr style=\"text-align: right;\">\n",
              "      <th>Satisfaccion_trabajo</th>\n",
              "      <th>Insatisfecho(a)</th>\n",
              "      <th>Neutral</th>\n",
              "      <th>Satisfecho(a)</th>\n",
              "      <th>Desconocido</th>\n",
              "    </tr>\n",
              "    <tr>\n",
              "      <th>Sexo</th>\n",
              "      <th></th>\n",
              "      <th></th>\n",
              "      <th></th>\n",
              "      <th></th>\n",
              "    </tr>\n",
              "  </thead>\n",
              "  <tbody>\n",
              "    <tr>\n",
              "      <th>Hombre</th>\n",
              "      <td>0.375000</td>\n",
              "      <td>0.250000</td>\n",
              "      <td>0.187500</td>\n",
              "      <td>0.187500</td>\n",
              "    </tr>\n",
              "    <tr>\n",
              "      <th>Mujer</th>\n",
              "      <td>0.272727</td>\n",
              "      <td>0.363636</td>\n",
              "      <td>0.272727</td>\n",
              "      <td>0.090909</td>\n",
              "    </tr>\n",
              "    <tr>\n",
              "      <th>Total</th>\n",
              "      <td>0.333333</td>\n",
              "      <td>0.296296</td>\n",
              "      <td>0.222222</td>\n",
              "      <td>0.148148</td>\n",
              "    </tr>\n",
              "  </tbody>\n",
              "</table>\n",
              "</div>"
            ],
            "text/plain": [
              "Satisfaccion_trabajo  Insatisfecho(a)   Neutral  Satisfecho(a)  Desconocido\n",
              "Sexo                                                                       \n",
              "Hombre                       0.375000  0.250000       0.187500     0.187500\n",
              "Mujer                        0.272727  0.363636       0.272727     0.090909\n",
              "Total                        0.333333  0.296296       0.222222     0.148148"
            ]
          },
          "metadata": {
            "tags": []
          },
          "execution_count": 9
        }
      ]
    },
    {
      "cell_type": "markdown",
      "metadata": {
        "id": "WiGGgCBWAckq",
        "colab_type": "text"
      },
      "source": [
        "Obtener el vector de medias de gastos, ingresos y balance"
      ]
    },
    {
      "cell_type": "code",
      "metadata": {
        "id": "_kFmMi9JBnCm",
        "colab_type": "code",
        "colab": {
          "base_uri": "https://localhost:8080/",
          "height": 88
        },
        "outputId": "49e90676-b2ce-4c7d-f4ba-cc4202a36fcf"
      },
      "source": [
        "varbls = ['Gastos', 'Ingresos', 'Balance']\n",
        "Empleados[varbls].mean()"
      ],
      "execution_count": null,
      "outputs": [
        {
          "output_type": "execute_result",
          "data": {
            "text/plain": [
              "Gastos      6409.807692\n",
              "Ingresos    7541.576923\n",
              "Balance     1131.769231\n",
              "dtype: float64"
            ]
          },
          "metadata": {
            "tags": []
          },
          "execution_count": 11
        }
      ]
    },
    {
      "cell_type": "markdown",
      "metadata": {
        "id": "X8Im1NFUAfTq",
        "colab_type": "text"
      },
      "source": [
        "Obtener los vectores de deciles 1 3 5 7 y 9 de gastos, ingresos y balance"
      ]
    },
    {
      "cell_type": "code",
      "metadata": {
        "id": "Jcw3g0FKCKDr",
        "colab_type": "code",
        "colab": {
          "base_uri": "https://localhost:8080/",
          "height": 198
        },
        "outputId": "ade75b40-d4ec-4d77-bf88-ef6c85557175"
      },
      "source": [
        "decs = np.arange(1, 10, 2)/10\n",
        "Empleados[varbls].quantile(decs)"
      ],
      "execution_count": null,
      "outputs": [
        {
          "output_type": "execute_result",
          "data": {
            "text/html": [
              "<div>\n",
              "<style scoped>\n",
              "    .dataframe tbody tr th:only-of-type {\n",
              "        vertical-align: middle;\n",
              "    }\n",
              "\n",
              "    .dataframe tbody tr th {\n",
              "        vertical-align: top;\n",
              "    }\n",
              "\n",
              "    .dataframe thead th {\n",
              "        text-align: right;\n",
              "    }\n",
              "</style>\n",
              "<table border=\"1\" class=\"dataframe\">\n",
              "  <thead>\n",
              "    <tr style=\"text-align: right;\">\n",
              "      <th></th>\n",
              "      <th>Gastos</th>\n",
              "      <th>Ingresos</th>\n",
              "      <th>Balance</th>\n",
              "    </tr>\n",
              "  </thead>\n",
              "  <tbody>\n",
              "    <tr>\n",
              "      <th>0.1</th>\n",
              "      <td>3363.0</td>\n",
              "      <td>3303.5</td>\n",
              "      <td>-1317.0</td>\n",
              "    </tr>\n",
              "    <tr>\n",
              "      <th>0.3</th>\n",
              "      <td>5097.5</td>\n",
              "      <td>4099.0</td>\n",
              "      <td>-354.5</td>\n",
              "    </tr>\n",
              "    <tr>\n",
              "      <th>0.5</th>\n",
              "      <td>6117.5</td>\n",
              "      <td>7360.0</td>\n",
              "      <td>944.5</td>\n",
              "    </tr>\n",
              "    <tr>\n",
              "      <th>0.7</th>\n",
              "      <td>7900.0</td>\n",
              "      <td>10805.5</td>\n",
              "      <td>2568.5</td>\n",
              "    </tr>\n",
              "    <tr>\n",
              "      <th>0.9</th>\n",
              "      <td>9369.5</td>\n",
              "      <td>11848.5</td>\n",
              "      <td>3301.0</td>\n",
              "    </tr>\n",
              "  </tbody>\n",
              "</table>\n",
              "</div>"
            ],
            "text/plain": [
              "     Gastos  Ingresos  Balance\n",
              "0.1  3363.0    3303.5  -1317.0\n",
              "0.3  5097.5    4099.0   -354.5\n",
              "0.5  6117.5    7360.0    944.5\n",
              "0.7  7900.0   10805.5   2568.5\n",
              "0.9  9369.5   11848.5   3301.0"
            ]
          },
          "metadata": {
            "tags": []
          },
          "execution_count": 20
        }
      ]
    },
    {
      "cell_type": "markdown",
      "metadata": {
        "id": "y7QAWh9QAisl",
        "colab_type": "text"
      },
      "source": [
        "Obtener las desviaciones estándar de gastos, ingresos y balance"
      ]
    },
    {
      "cell_type": "code",
      "metadata": {
        "id": "Hvdp40OBDQ7a",
        "colab_type": "code",
        "colab": {
          "base_uri": "https://localhost:8080/",
          "height": 88
        },
        "outputId": "c1afff34-4f90-41f5-f01d-e916d152dae6"
      },
      "source": [
        "Empleados[varbls].mean()"
      ],
      "execution_count": null,
      "outputs": [
        {
          "output_type": "execute_result",
          "data": {
            "text/plain": [
              "Gastos      6409.807692\n",
              "Ingresos    7541.576923\n",
              "Balance     1131.769231\n",
              "dtype: float64"
            ]
          },
          "metadata": {
            "tags": []
          },
          "execution_count": 21
        }
      ]
    },
    {
      "cell_type": "markdown",
      "metadata": {
        "id": "diSGwPfKAlbI",
        "colab_type": "text"
      },
      "source": [
        "Obtener la matriz de correlaciones de gastos, ingresos y balance"
      ]
    },
    {
      "cell_type": "code",
      "metadata": {
        "id": "UuEBOxL2DWcZ",
        "colab_type": "code",
        "colab": {
          "base_uri": "https://localhost:8080/",
          "height": 138
        },
        "outputId": "7dd30f80-23e5-44fe-fbd1-47599f80e796"
      },
      "source": [
        "Empleados[varbls].corr()"
      ],
      "execution_count": null,
      "outputs": [
        {
          "output_type": "execute_result",
          "data": {
            "text/html": [
              "<div>\n",
              "<style scoped>\n",
              "    .dataframe tbody tr th:only-of-type {\n",
              "        vertical-align: middle;\n",
              "    }\n",
              "\n",
              "    .dataframe tbody tr th {\n",
              "        vertical-align: top;\n",
              "    }\n",
              "\n",
              "    .dataframe thead th {\n",
              "        text-align: right;\n",
              "    }\n",
              "</style>\n",
              "<table border=\"1\" class=\"dataframe\">\n",
              "  <thead>\n",
              "    <tr style=\"text-align: right;\">\n",
              "      <th></th>\n",
              "      <th>Gastos</th>\n",
              "      <th>Ingresos</th>\n",
              "      <th>Balance</th>\n",
              "    </tr>\n",
              "  </thead>\n",
              "  <tbody>\n",
              "    <tr>\n",
              "      <th>Gastos</th>\n",
              "      <td>1.000000</td>\n",
              "      <td>0.879145</td>\n",
              "      <td>0.444497</td>\n",
              "    </tr>\n",
              "    <tr>\n",
              "      <th>Ingresos</th>\n",
              "      <td>0.879145</td>\n",
              "      <td>1.000000</td>\n",
              "      <td>0.817665</td>\n",
              "    </tr>\n",
              "    <tr>\n",
              "      <th>Balance</th>\n",
              "      <td>0.444497</td>\n",
              "      <td>0.817665</td>\n",
              "      <td>1.000000</td>\n",
              "    </tr>\n",
              "  </tbody>\n",
              "</table>\n",
              "</div>"
            ],
            "text/plain": [
              "            Gastos  Ingresos   Balance\n",
              "Gastos    1.000000  0.879145  0.444497\n",
              "Ingresos  0.879145  1.000000  0.817665\n",
              "Balance   0.444497  0.817665  1.000000"
            ]
          },
          "metadata": {
            "tags": []
          },
          "execution_count": 22
        }
      ]
    }
  ]
}